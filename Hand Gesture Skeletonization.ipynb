{
 "cells": [
  {
   "cell_type": "markdown",
   "id": "541cd7f4",
   "metadata": {},
   "source": [
    "# Project 1\n",
    " \n",
    "Submitted To: `Dr. Muhammad Jawad Khan`                                              \n",
    "\n",
    "Submitted By: `Usman Zaheer`, Registration Number: `327700`, RIME: `2020`  Subject: `Computer Vision`"
   ]
  },
  {
   "cell_type": "code",
   "execution_count": 1,
   "id": "e1c93510",
   "metadata": {},
   "outputs": [],
   "source": [
    "import cv2 as cv\n",
    "import time\n",
    "import gesturedetector as gd\n",
    "\n",
    "wCam, hCam = 640, 480\n",
    "\n",
    "cap = cv.VideoCapture(0)\n",
    "cap.set(3, wCam)\n",
    "cap.set(4, hCam)\n",
    "\n",
    "pTime = 0\n",
    "\n",
    "detector = gd.handDetector(detectionCon=0.75)\n",
    "\n",
    "tipIds = [4, 8, 12, 16, 20]\n",
    "\n",
    "while True:\n",
    "    success, img = cap.read()\n",
    "    img = detector.findHands(img)\n",
    "    lmList = detector.findPosition(img, draw=False)\n",
    "  \n",
    "\n",
    "    if len(lmList) != 0:\n",
    "        fingers = []\n",
    "\n",
    "        if lmList[tipIds[0]][1] > lmList[tipIds[0] - 1][1]:\n",
    "            fingers.append(1)\n",
    "        else:\n",
    "            fingers.append(0)\n",
    "\n",
    "        # 4 Fingers\n",
    "        for id in range(1, 5):\n",
    "            if lmList[tipIds[id]][2] < lmList[tipIds[id] - 2][2]:\n",
    "                fingers.append(1)\n",
    "            else:\n",
    "                fingers.append(0)\n",
    "\n",
    "        totalFingers = fingers.count(1)\n",
    "\n",
    "    cTime = time.time()\n",
    "    fps = 1 / (cTime - pTime)\n",
    "    pTime = cTime\n",
    "    \n",
    "    cv.putText(img, f'FPS: {int(fps)}', (400, 70), cv.FONT_HERSHEY_PLAIN,\n",
    "                3, (0, 255, 0), 2)\n",
    "\n",
    "    cv.imshow(\"Hand Gesture Detector\", img)\n",
    "    if cv.waitKey(1)==27:\n",
    "        break"
   ]
  },
  {
   "cell_type": "code",
   "execution_count": null,
   "id": "a7e9d771",
   "metadata": {},
   "outputs": [],
   "source": []
  },
  {
   "cell_type": "code",
   "execution_count": null,
   "id": "e5ef4ffc",
   "metadata": {},
   "outputs": [],
   "source": []
  }
 ],
 "metadata": {
  "kernelspec": {
   "display_name": "Python 3",
   "language": "python",
   "name": "python3"
  },
  "language_info": {
   "codemirror_mode": {
    "name": "ipython",
    "version": 3
   },
   "file_extension": ".py",
   "mimetype": "text/x-python",
   "name": "python",
   "nbconvert_exporter": "python",
   "pygments_lexer": "ipython3",
   "version": "3.8.8"
  }
 },
 "nbformat": 4,
 "nbformat_minor": 5
}
